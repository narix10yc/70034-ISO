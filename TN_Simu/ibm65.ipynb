{
 "cells": [
  {
   "cell_type": "code",
   "execution_count": 201,
   "metadata": {},
   "outputs": [],
   "source": [
    "from qh_circuit import *\n",
    "from qh_gates import *\n",
    "from tn_simu import *\n",
    "import qiskit\n",
    "from qiskit import Aer\n",
    "\n",
    "import matplotlib.pyplot as plt"
   ]
  },
  {
   "cell_type": "code",
   "execution_count": 202,
   "metadata": {},
   "outputs": [],
   "source": [
    "def plot_state(amp):\n",
    "    plt.figure()\n",
    "    p = np.abs(amp) ** 2\n",
    "    n = int(np.log2(len(amp)))\n",
    "    label = [(r\"{:0\" + f\"{n}\" + r\"b}\").format(i) for i in range(len(amp))]\n",
    "    plt.bar(label, p)\n",
    "    plt.xticks(rotation=70)\n",
    "    plt.title(f\"{p.sum()}\")\n",
    "    plt.show()\n",
    "    plt.close()\n"
   ]
  },
  {
   "cell_type": "code",
   "execution_count": 203,
   "metadata": {},
   "outputs": [],
   "source": [
    "def rqc2(arch: TNArchitecture, depth, seed=None):\n",
    "    from copy import deepcopy\n",
    "    if seed is not None:\n",
    "        np.random.seed(seed)\n",
    "        \n",
    "    nqubits = arch.nnodes\n",
    "    qc = QHCircuit(nqubits)\n",
    "    qqc = qiskit.QuantumCircuit(nqubits)\n",
    "\n",
    "    edges = deepcopy(arch.edges)\n",
    "    groups = []\n",
    "    \n",
    "    while len(edges) > 0:\n",
    "        current_subset = []\n",
    "        nodes_in_subset = []\n",
    "        remaining_edges = []\n",
    "        for edge in edges:\n",
    "            u, v = edge\n",
    "            if u not in nodes_in_subset and v not in nodes_in_subset:\n",
    "                current_subset.append(edge)\n",
    "                nodes_in_subset.append(u)\n",
    "                nodes_in_subset.append(v)\n",
    "            else:\n",
    "                remaining_edges.append(edge)\n",
    "        edges = remaining_edges\n",
    "\n",
    "        groups.append(current_subset)\n",
    "    \n",
    "\n",
    "    qubit_history = [None for _ in range(nqubits)]\n",
    "    def random_single_qubit(qubit):\n",
    "        r = np.random.randint(0, 2)\n",
    "        if qubit_history[qubit] == None:\n",
    "            qc.t(qubit)\n",
    "            qqc.t(qubit)\n",
    "            qubit_history[qubit] = 't' \n",
    "        elif qubit_history[qubit] == 't':\n",
    "            if r == 0:\n",
    "                qc.rx(qubit, 0.5*np.pi)\n",
    "                qqc.rx(0.5*np.pi, qubit)\n",
    "                qubit_history[qubit] = 'rx'\n",
    "            else:\n",
    "                qc.ry(qubit, 0.5*np.pi)\n",
    "                qqc.ry(0.5*np.pi, qubit)\n",
    "                qubit_history[qubit] = 'ry'\n",
    "        elif qubit_history[qubit] == 'rx':\n",
    "            if r == 0:\n",
    "                qc.ry(qubit, 0.5*np.pi)\n",
    "                qqc.ry(0.5*np.pi, qubit)  \n",
    "                qubit_history[qubit] = 'ry'  \n",
    "            else:\n",
    "                qc.t(qubit)\n",
    "                qqc.t(qubit)\n",
    "                qubit_history[qubit] = 't'  \n",
    "        elif qubit_history[qubit] == 'ry':\n",
    "            if r == 0:\n",
    "                qc.rx(qubit, 0.5*np.pi)\n",
    "                qqc.rx(0.5*np.pi, qubit)  \n",
    "                qubit_history[qubit] = 'rx'  \n",
    "            else:\n",
    "                qc.t(qubit)\n",
    "                qqc.t(qubit)\n",
    "                qubit_history[qubit] = 't'  \n",
    "        # p1, p2, p3 = np.random.rand(3) * 2 * 0.5*np.pi\n",
    "        # qc.u(qubit, p1, p2, p3)\n",
    "        # qqc.u(p1, p2, p3, qubit)\n",
    "\n",
    "    for qubit in range(nqubits):\n",
    "        qc.h(qubit)\n",
    "        qqc.h(qubit)\n",
    "\n",
    "\n",
    "    d = 0\n",
    "    this_nodes = []\n",
    "    while d < depth:\n",
    "        d += 1\n",
    "        edges = groups[d%len(groups)]\n",
    "        # CZ gate\n",
    "        remaining_nodes = list(range(nqubits))\n",
    "        last_nodes = this_nodes\n",
    "        this_nodes = []\n",
    "        for q1, q2 in edges:\n",
    "            remaining_nodes.remove(q1)\n",
    "            remaining_nodes.remove(q2)\n",
    "            this_nodes += [q1, q2]\n",
    "\n",
    "            if np.random.rand() < 0.5:\n",
    "                qc.cz(q1, q2)\n",
    "                qqc.cz(q1, q2)\n",
    "            else:\n",
    "                qc.cz(q2, q1)\n",
    "                qqc.cz(q2, q1)\n",
    "\n",
    "            random_single_qubit(q1)\n",
    "            random_single_qubit(q2)\n",
    "\n",
    "        # print(f\"d={d}; Remain {remaining_nodes}; last {last_nodes}\")\n",
    "        # for qubit in remaining_nodes:\n",
    "            # if qubit in last_nodes:\n",
    "                # random_single_qubit(qubit)\n",
    "\n",
    "        # for qubit in remaining_nodes:\n",
    "            # random_single_qubit(qubit)\n",
    "        \n",
    "        # Single-qubit gate \n",
    "        # for qubit in range(nqubits):\n",
    "            # random_single_qubit(qubit)\n",
    "\n",
    "    for qubit in range(nqubits):\n",
    "        qc.h(qubit)\n",
    "        qqc.h(qubit) \n",
    "\n",
    "\n",
    "    return qc, qqc"
   ]
  },
  {
   "cell_type": "code",
   "execution_count": 204,
   "metadata": {},
   "outputs": [],
   "source": [
    "def get_distribution_statistis(probs, log=False):\n",
    "    if log:\n",
    "    # N = len(probs)\n",
    "        m1 = np.log(np.mean(probs))\n",
    "        m2 = np.log(np.mean(probs**2))\n",
    "        m3 = np.log(np.mean(probs**3))\n",
    "        m4 = np.log(np.mean(probs**4))\n",
    "        probs_non_zero = probs[probs != 0]\n",
    "        entropy = -(probs_non_zero * np.log(probs_non_zero)).sum()\n",
    "\n",
    "\n",
    "    return np.array([m1, m2, m3, m4, entropy])"
   ]
  },
  {
   "cell_type": "code",
   "execution_count": 205,
   "metadata": {},
   "outputs": [],
   "source": [
    "N = 2**65\n",
    "loge2 = np.log(2)\n",
    "logN = loge2 * 65\n",
    "# np.log(1) - np.log(N), np.log(2 / N**2), np.log(6 / N**3), np.log(24 / N**4), np.log(N) - 1 + 0.5772156649"
   ]
  },
  {
   "cell_type": "code",
   "execution_count": 206,
   "metadata": {},
   "outputs": [
    {
     "name": "stdout",
     "output_type": "stream",
     "text": [
      "994\n"
     ]
    }
   ],
   "source": [
    "arch = IBM65Architecture()\n",
    "# arch.edges.append((0,7))\n",
    "arch.compute_neighbours()\n",
    "circuit, _ = rqc2(arch, 16, 123)\n",
    "print(len(circuit.instructions))\n",
    "simu = TNSimulator(arch, circuit, 0.0001, max_chi=24)\n",
    "simu.contraction_order = list(range(27)) + [29, 28, 27] + list(range(30, 55)) + [56, 55] + list(range(57, 65))"
   ]
  },
  {
   "cell_type": "code",
   "execution_count": 207,
   "metadata": {},
   "outputs": [
    {
     "name": "stdout",
     "output_type": "stream",
     "text": [
      "Highest degree: 3; Max bond dimension: 24\n",
      "Max number of parameters:     496608 (8 MiB)\n",
      "Current number of parameters: 155200 (2 MiB)\n"
     ]
    },
    {
     "data": {
      "text/plain": [
       "130523136"
      ]
     },
     "execution_count": 207,
     "metadata": {},
     "output_type": "execute_result"
    }
   ],
   "source": [
    "simu.simulate(method='qr-svd')\n",
    "simu.get_statistics()\n",
    "simu.compute_contraction_flop()"
   ]
  },
  {
   "cell_type": "code",
   "execution_count": 208,
   "metadata": {},
   "outputs": [],
   "source": [
    "amp = []"
   ]
  },
  {
   "cell_type": "code",
   "execution_count": 209,
   "metadata": {},
   "outputs": [],
   "source": [
    "nsamples = 1000\n"
   ]
  },
  {
   "cell_type": "code",
   "execution_count": 226,
   "metadata": {},
   "outputs": [
    {
     "name": "stderr",
     "output_type": "stream",
     "text": [
      "100%|██████████| 1000/1000 [03:20<00:00,  4.99it/s]\n"
     ]
    }
   ],
   "source": [
    "amp = list(amp) + list(simu.sample_amplitudes(int(nsamples)))\n",
    "amp = np.array(amp)"
   ]
  },
  {
   "cell_type": "code",
   "execution_count": 211,
   "metadata": {},
   "outputs": [
    {
     "name": "stdout",
     "output_type": "stream",
     "text": [
      "1000\n"
     ]
    },
    {
     "data": {
      "text/plain": [
       "0.996684809619335"
      ]
     },
     "execution_count": 211,
     "metadata": {},
     "output_type": "execute_result"
    }
   ],
   "source": [
    "probs = np.abs(amp) ** 2\n",
    "logprobs = np.log(probs)\n",
    "print(len(amp))\n",
    "np.exp(logprobs).sum() * N / len(amp)"
   ]
  },
  {
   "cell_type": "code",
   "execution_count": 235,
   "metadata": {},
   "outputs": [],
   "source": [
    "density, divide = np.histogram(probs, bins=40, density=True)\n",
    "divide = (divide[1:] + divide[:-1]) / 2"
   ]
  },
  {
   "cell_type": "code",
   "execution_count": 236,
   "metadata": {},
   "outputs": [],
   "source": [
    "# density"
   ]
  },
  {
   "cell_type": "code",
   "execution_count": 237,
   "metadata": {},
   "outputs": [],
   "source": [
    "import matplotlib.pylab as pylab\n",
    "pylab.rcParams.update({\n",
    "    'legend.fontsize': 'large',\n",
    "    'axes.labelsize': 'x-large',\n",
    "    'axes.titlesize': 'x-large',\n",
    "    'xtick.labelsize': 'large',\n",
    "    'ytick.labelsize': 'large',\n",
    "})"
   ]
  },
  {
   "cell_type": "code",
   "execution_count": 239,
   "metadata": {},
   "outputs": [
    {
     "name": "stderr",
     "output_type": "stream",
     "text": [
      "/tmp/ipykernel_32048/2158044181.py:4: RuntimeWarning: divide by zero encountered in log\n",
      "  ax.plot(divide, np.log(density), '.', label='Sampled')\n"
     ]
    },
    {
     "data": {
      "text/plain": [
       "Text(0.5, 1.0, 'RQC Simulation of IBM Ithaca (65 qubits)')"
      ]
     },
     "execution_count": 239,
     "metadata": {},
     "output_type": "execute_result"
    },
    {
     "data": {
      "image/png": "[encoded data removed]",
      "text/plain": [
       "<Figure size 640x480 with 1 Axes>"
      ]
     },
     "metadata": {},
     "output_type": "display_data"
    }
   ],
   "source": [
    "fig, ax = plt.subplots()\n",
    "# from math import exp\n",
    "\n",
    "ax.plot(divide, np.log(density), '.', label='Sampled')\n",
    "\n",
    "p = np.linspace(0, probs.max(), 1000)\n",
    "logy = logN - N*p\n",
    "\n",
    "ax.plot(p, logy, label=\"Portor-Thomas\")\n",
    "\n",
    "ax.semilogx()\n",
    "\n",
    "plt.xlabel(\"p\")\n",
    "plt.ylabel(\"log(Density)\")\n",
    "\n",
    "\n",
    "plt.legend()\n",
    "plt.title(\"RQC Simulation of IBM Ithaca (65 qubits)\")"
   ]
  },
  {
   "cell_type": "code",
   "execution_count": 215,
   "metadata": {},
   "outputs": [
    {
     "data": {
      "text/plain": [
       "(45.054566736396445, 36.71903923298734)"
      ]
     },
     "execution_count": 215,
     "metadata": {},
     "output_type": "execute_result"
    }
   ],
   "source": [
    "logy.max(), logy.min()"
   ]
  },
  {
   "cell_type": "code",
   "execution_count": null,
   "metadata": {},
   "outputs": [],
   "source": []
  }
 ],
 "metadata": {
  "kernelspec": {
   "display_name": "Python 3",
   "language": "python",
   "name": "python3"
  },
  "language_info": {
   "codemirror_mode": {
    "name": "ipython",
    "version": 3
   },
   "file_extension": ".py",
   "mimetype": "text/x-python",
   "name": "python",
   "nbconvert_exporter": "python",
   "pygments_lexer": "ipython3",
   "version": "3.10.6"
  },
  "orig_nbformat": 4
 },
 "nbformat": 4,
 "nbformat_minor": 2
}
