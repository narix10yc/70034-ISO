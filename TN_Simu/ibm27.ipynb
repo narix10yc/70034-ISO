{
 "cells": [
  {
   "cell_type": "code",
   "execution_count": 321,
   "metadata": {},
   "outputs": [],
   "source": [
    "from qh_circuit import *\n",
    "from qh_gates import *\n",
    "from tn_simu import *\n",
    "import qiskit\n",
    "from qiskit import Aer\n",
    "\n",
    "import matplotlib.pyplot as plt"
   ]
  },
  {
   "cell_type": "code",
   "execution_count": 322,
   "metadata": {},
   "outputs": [],
   "source": [
    "def plot_state(amp):\n",
    "    plt.figure()\n",
    "    p = np.abs(amp) ** 2\n",
    "    n = int(np.log2(len(amp)))\n",
    "    label = [(r\"{:0\" + f\"{n}\" + r\"b}\").format(i) for i in range(len(amp))]\n",
    "    plt.bar(label, p)\n",
    "    plt.xticks(rotation=70)\n",
    "    plt.title(f\"{p.sum()}\")\n",
    "    plt.show()\n",
    "    plt.close()\n"
   ]
  },
  {
   "cell_type": "code",
   "execution_count": 323,
   "metadata": {},
   "outputs": [],
   "source": [
    "def rqc2(arch: TNArchitecture, depth, seed=None):\n",
    "    from copy import deepcopy\n",
    "    if seed is not None:\n",
    "        np.random.seed(seed)\n",
    "        \n",
    "    nqubits = arch.nnodes\n",
    "    qc = QHCircuit(nqubits)\n",
    "    qqc = qiskit.QuantumCircuit(nqubits)\n",
    "\n",
    "    edges = deepcopy(arch.edges)\n",
    "    groups = []\n",
    "    \n",
    "    while len(edges) > 0:\n",
    "        current_subset = []\n",
    "        nodes_in_subset = []\n",
    "        remaining_edges = []\n",
    "        for edge in edges:\n",
    "            u, v = edge\n",
    "            if u not in nodes_in_subset and v not in nodes_in_subset:\n",
    "                current_subset.append(edge)\n",
    "                nodes_in_subset.append(u)\n",
    "                nodes_in_subset.append(v)\n",
    "            else:\n",
    "                remaining_edges.append(edge)\n",
    "        edges = remaining_edges\n",
    "\n",
    "        groups.append(current_subset)\n",
    "    \n",
    "\n",
    "    qubit_history = [None for _ in range(nqubits)]\n",
    "    def random_single_qubit(qubit):\n",
    "        r = np.random.randint(0, 2)\n",
    "        if qubit_history[qubit] == None:\n",
    "            qc.t(qubit)\n",
    "            qqc.t(qubit)\n",
    "            qubit_history[qubit] = 't' \n",
    "        elif qubit_history[qubit] == 't':\n",
    "            if r == 0:\n",
    "                qc.rx(qubit, 0.5*np.pi)\n",
    "                qqc.rx(0.5*np.pi, qubit)\n",
    "                qubit_history[qubit] = 'rx'\n",
    "            else:\n",
    "                qc.ry(qubit, 0.5*np.pi)\n",
    "                qqc.ry(0.5*np.pi, qubit)\n",
    "                qubit_history[qubit] = 'ry'\n",
    "        elif qubit_history[qubit] == 'rx':\n",
    "            if r == 0:\n",
    "                qc.ry(qubit, 0.5*np.pi)\n",
    "                qqc.ry(0.5*np.pi, qubit)  \n",
    "                qubit_history[qubit] = 'ry'  \n",
    "            else:\n",
    "                qc.t(qubit)\n",
    "                qqc.t(qubit)\n",
    "                qubit_history[qubit] = 't'  \n",
    "        elif qubit_history[qubit] == 'ry':\n",
    "            if r == 0:\n",
    "                qc.rx(qubit, 0.5*np.pi)\n",
    "                qqc.rx(0.5*np.pi, qubit)  \n",
    "                qubit_history[qubit] = 'rx'  \n",
    "            else:\n",
    "                qc.t(qubit)\n",
    "                qqc.t(qubit)\n",
    "                qubit_history[qubit] = 't'  \n",
    "        # p1, p2, p3 = np.random.rand(3) * 2 * 0.5*np.pi\n",
    "        # qc.u(qubit, p1, p2, p3)\n",
    "        # qqc.u(p1, p2, p3, qubit)\n",
    "\n",
    "    for qubit in range(nqubits):\n",
    "        qc.h(qubit)\n",
    "        qqc.h(qubit)\n",
    "\n",
    "\n",
    "    d = 0\n",
    "    this_nodes = []\n",
    "    while d < depth:\n",
    "        d += 1\n",
    "        edges = groups[d%len(groups)]\n",
    "        # CZ gate\n",
    "        remaining_nodes = list(range(nqubits))\n",
    "        last_nodes = this_nodes\n",
    "        this_nodes = []\n",
    "        for q1, q2 in edges:\n",
    "            remaining_nodes.remove(q1)\n",
    "            remaining_nodes.remove(q2)\n",
    "            this_nodes += [q1, q2]\n",
    "\n",
    "            if np.random.rand() < 0.5:\n",
    "                qc.cz(q1, q2)\n",
    "                qqc.cz(q1, q2)\n",
    "            else:\n",
    "                qc.cz(q2, q1)\n",
    "                qqc.cz(q2, q1)\n",
    "\n",
    "            random_single_qubit(q1)\n",
    "            random_single_qubit(q2)\n",
    "\n",
    "        # print(f\"d={d}; Remain {remaining_nodes}; last {last_nodes}\")\n",
    "        # for qubit in remaining_nodes:\n",
    "            # if qubit in last_nodes:\n",
    "                # random_single_qubit(qubit)\n",
    "\n",
    "        # for qubit in remaining_nodes:\n",
    "            # random_single_qubit(qubit)\n",
    "        \n",
    "        # Single-qubit gate \n",
    "        # for qubit in range(nqubits):\n",
    "            # random_single_qubit(qubit)\n",
    "\n",
    "    for qubit in range(nqubits):\n",
    "        qc.h(qubit)\n",
    "        qqc.h(qubit) \n",
    "\n",
    "\n",
    "    return qc, qqc"
   ]
  },
  {
   "cell_type": "code",
   "execution_count": 324,
   "metadata": {},
   "outputs": [],
   "source": [
    "def get_distribution_statistis(probs):\n",
    "    N = len(probs)\n",
    "    m1 = np.log(np.mean(probs))\n",
    "    m2 = np.log(np.mean(probs**2))\n",
    "    m3 = np.log(np.mean(probs**3))\n",
    "    m4 = np.log(np.mean(probs**4))\n",
    "    probs_non_zero = probs[probs != 0]\n",
    "    entropy = -(probs_non_zero * np.log(probs_non_zero)).sum()\n",
    "\n",
    "\n",
    "    return np.array([m1, m2, m3, m4, entropy])"
   ]
  },
  {
   "cell_type": "code",
   "execution_count": 326,
   "metadata": {},
   "outputs": [
    {
     "name": "stdout",
     "output_type": "stream",
     "text": [
      "558\n"
     ]
    }
   ],
   "source": [
    "arch = IBM27Architecture()\n",
    "# arch.edges.append((0,7))\n",
    "arch.compute_neighbours()\n",
    "circuit, _ = rqc2(arch, 18, 123)\n",
    "print(len(circuit.instructions))\n",
    "simu = TNSimulator(arch, circuit, 1e-5, max_chi=64)\n",
    "simu.contraction_order = [0,1,2,3,4,5,7,6,8,9,10,11,12,13,14,15,16,18,17,19,20,21,22,23,24,25,26]"
   ]
  },
  {
   "cell_type": "code",
   "execution_count": 327,
   "metadata": {},
   "outputs": [
    {
     "name": "stdout",
     "output_type": "stream",
     "text": [
      "Highest degree: 3; Max bond dimension: 64\n",
      "Max number of parameters:     4301568 (66 MiB)\n",
      "Current number of parameters: 4301568 (66 MiB)\n"
     ]
    },
    {
     "data": {
      "text/plain": [
       "7009730560"
      ]
     },
     "execution_count": 327,
     "metadata": {},
     "output_type": "execute_result"
    }
   ],
   "source": [
    "simu.simulate(method='qr-svd')\n",
    "simu.get_statistics()\n",
    "simu.compute_contraction_flop()"
   ]
  },
  {
   "cell_type": "code",
   "execution_count": 328,
   "metadata": {},
   "outputs": [],
   "source": [
    "nsamples = 1e4"
   ]
  },
  {
   "cell_type": "code",
   "execution_count": 329,
   "metadata": {},
   "outputs": [
    {
     "name": "stderr",
     "output_type": "stream",
     "text": [
      "  0%|          | 9/10000 [00:01<31:09,  5.34it/s]\n"
     ]
    },
    {
     "ename": "KeyboardInterrupt",
     "evalue": "",
     "output_type": "error",
     "traceback": [
      "\u001b[0;31m---------------------------------------------------------------------------\u001b[0m",
      "\u001b[0;31mKeyboardInterrupt\u001b[0m                         Traceback (most recent call last)",
      "Cell \u001b[0;32mIn[329], line 1\u001b[0m\n\u001b[0;32m----> 1\u001b[0m amp \u001b[39m=\u001b[39m simu\u001b[39m.\u001b[39;49msample_amplitudes(\u001b[39mint\u001b[39;49m(nsamples))\n",
      "File \u001b[0;32m~/Desktop/TN_Simu/MPS_Arch/tn_simu.py:258\u001b[0m, in \u001b[0;36mTNSimulator.sample_amplitudes\u001b[0;34m(self, nsamples, verbose)\u001b[0m\n\u001b[1;32m    256\u001b[0m amps \u001b[39m=\u001b[39m []\n\u001b[1;32m    257\u001b[0m \u001b[39mfor\u001b[39;00m idx \u001b[39min\u001b[39;00m tqdm(indices, disable\u001b[39m=\u001b[39m\u001b[39mnot\u001b[39;00m verbose):\n\u001b[0;32m--> 258\u001b[0m     amps\u001b[39m.\u001b[39mappend(\u001b[39mself\u001b[39;49m\u001b[39m.\u001b[39;49mget_amplitude(\u001b[39mint\u001b[39;49m(idx)))\n\u001b[1;32m    259\u001b[0m \u001b[39mreturn\u001b[39;00m np\u001b[39m.\u001b[39marray(amps)\n",
      "File \u001b[0;32m~/Desktop/TN_Simu/MPS_Arch/tn_simu.py:232\u001b[0m, in \u001b[0;36mTNSimulator.get_amplitude\u001b[0;34m(self, id)\u001b[0m\n\u001b[1;32m    229\u001b[0m     n_contraction \u001b[39m=\u001b[39m \u001b[39mlen\u001b[39m(source_and_leg_idx)\n\u001b[1;32m    230\u001b[0m     out_idx \u001b[39m=\u001b[39m [each \u001b[39mfor\u001b[39;00m each \u001b[39min\u001b[39;00m tmp_idx \u001b[39mif\u001b[39;00m each \u001b[39m<\u001b[39m \u001b[39m51\u001b[39m \u001b[39m-\u001b[39m n_contraction] \u001b[39m+\u001b[39m [each \u001b[39mfor\u001b[39;00m each \u001b[39min\u001b[39;00m next_idx \u001b[39mif\u001b[39;00m each \u001b[39m<\u001b[39m \u001b[39m51\u001b[39m \u001b[39m-\u001b[39m n_contraction]\n\u001b[0;32m--> 232\u001b[0m     tmp \u001b[39m=\u001b[39m np\u001b[39m.\u001b[39;49meinsum(tmp, tmp_idx, \u001b[39mself\u001b[39;49m\u001b[39m.\u001b[39;49mgamma[next_node][\u001b[39mid\u001b[39;49m[next_node]], next_idx, out_idx)\n\u001b[1;32m    234\u001b[0m \u001b[39mreturn\u001b[39;00m tmp\n",
      "File \u001b[0;32m<__array_function__ internals>:180\u001b[0m, in \u001b[0;36meinsum\u001b[0;34m(*args, **kwargs)\u001b[0m\n",
      "File \u001b[0;32m~/.local/lib/python3.10/site-packages/numpy/core/einsumfunc.py:1371\u001b[0m, in \u001b[0;36meinsum\u001b[0;34m(out, optimize, *operands, **kwargs)\u001b[0m\n\u001b[1;32m   1369\u001b[0m     \u001b[39mif\u001b[39;00m specified_out:\n\u001b[1;32m   1370\u001b[0m         kwargs[\u001b[39m'\u001b[39m\u001b[39mout\u001b[39m\u001b[39m'\u001b[39m] \u001b[39m=\u001b[39m out\n\u001b[0;32m-> 1371\u001b[0m     \u001b[39mreturn\u001b[39;00m c_einsum(\u001b[39m*\u001b[39;49moperands, \u001b[39m*\u001b[39;49m\u001b[39m*\u001b[39;49mkwargs)\n\u001b[1;32m   1373\u001b[0m \u001b[39m# Check the kwargs to avoid a more cryptic error later, without having to\u001b[39;00m\n\u001b[1;32m   1374\u001b[0m \u001b[39m# repeat default values here\u001b[39;00m\n\u001b[1;32m   1375\u001b[0m valid_einsum_kwargs \u001b[39m=\u001b[39m [\u001b[39m'\u001b[39m\u001b[39mdtype\u001b[39m\u001b[39m'\u001b[39m, \u001b[39m'\u001b[39m\u001b[39morder\u001b[39m\u001b[39m'\u001b[39m, \u001b[39m'\u001b[39m\u001b[39mcasting\u001b[39m\u001b[39m'\u001b[39m]\n",
      "\u001b[0;31mKeyboardInterrupt\u001b[0m: "
     ]
    }
   ],
   "source": [
    "amp = simu.sample_amplitudes(int(nsamples))"
   ]
  },
  {
   "cell_type": "code",
   "execution_count": 281,
   "metadata": {},
   "outputs": [],
   "source": [
    "probs = np.abs(amp) ** 2\n",
    "logprobs = np.log(probs)"
   ]
  },
  {
   "cell_type": "code",
   "execution_count": 282,
   "metadata": {},
   "outputs": [
    {
     "data": {
      "text/plain": [
       "1.002169196572695"
      ]
     },
     "execution_count": 282,
     "metadata": {},
     "output_type": "execute_result"
    }
   ],
   "source": [
    "probs.sum() * (2 ** 27) / nsamples"
   ]
  },
  {
   "cell_type": "code",
   "execution_count": 277,
   "metadata": {},
   "outputs": [],
   "source": [
    "# draw log(Ne^-Np) vs p\n",
    "count, divide = np.histogram(probs, bins=40, density=True)\n",
    "divide = (divide[1:] + divide[:-1]) / 2"
   ]
  },
  {
   "cell_type": "code",
   "execution_count": 287,
   "metadata": {},
   "outputs": [],
   "source": [
    "import matplotlib.pylab as pylab\n",
    "pylab.rcParams.update({\n",
    "    'legend.fontsize': 'large',\n",
    "    'axes.labelsize': 'x-large',\n",
    "    'axes.titlesize': 'x-large',\n",
    "    'xtick.labelsize': 'large',\n",
    "    'ytick.labelsize': 'large',\n",
    "})"
   ]
  },
  {
   "cell_type": "code",
   "execution_count": 290,
   "metadata": {},
   "outputs": [
    {
     "data": {
      "text/plain": [
       "Text(0.5, 1.0, 'RQC Simulation of IBM Cario (27 qubits)')"
      ]
     },
     "execution_count": 290,
     "metadata": {},
     "output_type": "execute_result"
    },
    {
     "data": {
      "image/png": "[encoded data removed]",
      "text/plain": [
       "<Figure size 640x480 with 1 Axes>"
      ]
     },
     "metadata": {},
     "output_type": "display_data"
    }
   ],
   "source": [
    "fig, ax = plt.subplots()\n",
    "\n",
    "ax.plot(divide, count, '.', label='Sampled')\n",
    "\n",
    "N = 2 ** arch.nnodes\n",
    "p = np.linspace(0, probs.max(), 1000)\n",
    "y = N * np.exp(-N*p)\n",
    "\n",
    "ax.plot(p, y, label=\"Porter-Thomas\")\n",
    "\n",
    "ax.loglog()\n",
    "\n",
    "plt.xlabel(\"p\")\n",
    "plt.ylabel(\"Density\")\n",
    "\n",
    "plt.legend()\n",
    "plt.title(\"RQC Simulation of IBM Cario (27 qubits)\")"
   ]
  },
  {
   "cell_type": "code",
   "execution_count": null,
   "metadata": {},
   "outputs": [],
   "source": []
  }
 ],
 "metadata": {
  "kernelspec": {
   "display_name": "Python 3",
   "language": "python",
   "name": "python3"
  },
  "language_info": {
   "codemirror_mode": {
    "name": "ipython",
    "version": 3
   },
   "file_extension": ".py",
   "mimetype": "text/x-python",
   "name": "python",
   "nbconvert_exporter": "python",
   "pygments_lexer": "ipython3",
   "version": "3.10.6"
  },
  "orig_nbformat": 4
 },
 "nbformat": 4,
 "nbformat_minor": 2
}
