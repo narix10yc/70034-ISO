{
 "cells": [
  {
   "cell_type": "code",
   "execution_count": 1,
   "metadata": {},
   "outputs": [],
   "source": [
    "import numpy as np \n",
    "import scipy.linalg as linalg\n",
    "import matplotlib.pyplot as plt \n",
    "import qiskit\n",
    "from qiskit import Aer\n",
    "from qh_gates import *\n",
    "from qh_circuit import QHCircuit\n",
    "from tn_simu import TNArchitecture, PEPSArchitecture, MPSArchitecture, IBM27Architecture, IBM16Architecture, TNSimulator\n",
    "from tqdm import tqdm"
   ]
  },
  {
   "cell_type": "code",
   "execution_count": 2,
   "metadata": {},
   "outputs": [],
   "source": [
    "def rqc2(arch: TNArchitecture, depth, seed=None):\n",
    "    from copy import deepcopy\n",
    "    if seed is not None:\n",
    "        np.random.seed(seed)\n",
    "        \n",
    "    nqubits = arch.nnodes\n",
    "    qc = QHCircuit(nqubits)\n",
    "    qqc = qiskit.QuantumCircuit(nqubits)\n",
    "\n",
    "    edges = deepcopy(arch.edges)\n",
    "    groups = []\n",
    "    \n",
    "    while len(edges) > 0:\n",
    "        current_subset = []\n",
    "        nodes_in_subset = []\n",
    "        remaining_edges = []\n",
    "        for edge in edges:\n",
    "            u, v = edge\n",
    "            if u not in nodes_in_subset and v not in nodes_in_subset:\n",
    "                current_subset.append(edge)\n",
    "                nodes_in_subset.append(u)\n",
    "                nodes_in_subset.append(v)\n",
    "            else:\n",
    "                remaining_edges.append(edge)\n",
    "        edges = remaining_edges\n",
    "\n",
    "        groups.append(current_subset)\n",
    "    \n",
    "\n",
    "    qubit_history = [None for _ in range(nqubits)]\n",
    "    def random_single_qubit(qubit):\n",
    "        r = np.random.randint(0, 2)\n",
    "        if qubit_history[qubit] == None:\n",
    "            qc.t(qubit)\n",
    "            qqc.t(qubit)\n",
    "            qubit_history[qubit] = 't' \n",
    "        elif qubit_history[qubit] == 't':\n",
    "            if r == 0:\n",
    "                qc.rx(qubit, 0.5*np.pi)\n",
    "                qqc.rx(0.5*np.pi, qubit)\n",
    "                qubit_history[qubit] = 'rx'\n",
    "            else:\n",
    "                qc.ry(qubit, 0.5*np.pi)\n",
    "                qqc.ry(0.5*np.pi, qubit)\n",
    "                qubit_history[qubit] = 'ry'\n",
    "        elif qubit_history[qubit] == 'rx':\n",
    "            if r == 0:\n",
    "                qc.ry(qubit, 0.5*np.pi)\n",
    "                qqc.ry(0.5*np.pi, qubit)  \n",
    "                qubit_history[qubit] = 'ry'  \n",
    "            else:\n",
    "                qc.t(qubit)\n",
    "                qqc.t(qubit)\n",
    "                qubit_history[qubit] = 't'  \n",
    "        elif qubit_history[qubit] == 'ry':\n",
    "            if r == 0:\n",
    "                qc.rx(qubit, 0.5*np.pi)\n",
    "                qqc.rx(0.5*np.pi, qubit)  \n",
    "                qubit_history[qubit] = 'rx'  \n",
    "            else:\n",
    "                qc.t(qubit)\n",
    "                qqc.t(qubit)\n",
    "                qubit_history[qubit] = 't'  \n",
    "        # p1, p2, p3 = np.random.rand(3) * 2 * 0.5*np.pi\n",
    "        # qc.u(qubit, p1, p2, p3)\n",
    "        # qqc.u(p1, p2, p3, qubit)\n",
    "\n",
    "    for qubit in range(nqubits):\n",
    "        qc.h(qubit)\n",
    "        qqc.h(qubit)\n",
    "\n",
    "\n",
    "    d = 0\n",
    "    this_nodes = []\n",
    "    while d < depth:\n",
    "        d += 1\n",
    "        edges = groups[d%len(groups)]\n",
    "        # CZ gate\n",
    "        remaining_nodes = list(range(nqubits))\n",
    "        last_nodes = this_nodes\n",
    "        this_nodes = []\n",
    "        for q1, q2 in edges:\n",
    "            remaining_nodes.remove(q1)\n",
    "            remaining_nodes.remove(q2)\n",
    "            this_nodes += [q1, q2]\n",
    "\n",
    "            if np.random.rand() < 0.5:\n",
    "                qc.cz(q1, q2)\n",
    "                qqc.cz(q1, q2)\n",
    "            else:\n",
    "                qc.cz(q2, q1)\n",
    "                qqc.cz(q2, q1)\n",
    "\n",
    "            random_single_qubit(q1)\n",
    "            random_single_qubit(q2)\n",
    "\n",
    "        # print(f\"d={d}; Remain {remaining_nodes}; last {last_nodes}\")\n",
    "        # for qubit in remaining_nodes:\n",
    "            # if qubit in last_nodes:\n",
    "                # random_single_qubit(qubit)\n",
    "\n",
    "        # for qubit in remaining_nodes:\n",
    "            # random_single_qubit(qubit)\n",
    "        \n",
    "        # Single-qubit gate \n",
    "        # for qubit in range(nqubits):\n",
    "            # random_single_qubit(qubit)\n",
    "\n",
    "    for qubit in range(nqubits):\n",
    "        qc.h(qubit)\n",
    "        qqc.h(qubit) \n",
    "\n",
    "\n",
    "    return qc, qqc"
   ]
  },
  {
   "cell_type": "code",
   "execution_count": 3,
   "metadata": {},
   "outputs": [],
   "source": [
    "arch = MPSArchitecture(16)"
   ]
  },
  {
   "cell_type": "code",
   "execution_count": 4,
   "metadata": {},
   "outputs": [],
   "source": [
    "qc, qqc = rqc2(arch, 8)\n",
    "qis_simulator = Aer.get_backend('statevector_simulator')\n"
   ]
  },
  {
   "cell_type": "code",
   "execution_count": 5,
   "metadata": {},
   "outputs": [],
   "source": [
    "qis_qc_transpiled = qiskit.transpile(qqc, qis_simulator)\n",
    "ssv = qis_simulator.run(qis_qc_transpiled).result().get_statevector().data\n",
    "ssv /= np.linalg.norm(ssv)\n",
    "probs = np.abs(ssv) ** 2\n",
    "# probs = probs[np.random.randint(0, len(probs), 1000)]"
   ]
  },
  {
   "cell_type": "code",
   "execution_count": 6,
   "metadata": {},
   "outputs": [],
   "source": [
    "tn_simulator = TNSimulator(arch, qc, 1e-5, max_chi=16)\n",
    "# tn_simulator.contraction_order = [0,1,2,3,4,5,7,6,8,9,10,11,12,15,13,14]"
   ]
  },
  {
   "cell_type": "code",
   "execution_count": 7,
   "metadata": {},
   "outputs": [],
   "source": [
    "tn_simulator.simulate(method='qr-svd')"
   ]
  },
  {
   "cell_type": "code",
   "execution_count": 8,
   "metadata": {},
   "outputs": [
    {
     "name": "stdout",
     "output_type": "stream",
     "text": [
      "Highest degree: 2; Max bond dimension: 16\n",
      "Max number of parameters:     7232 (113 KiB)\n",
      "Current number of parameters: 7232 (113 KiB)\n"
     ]
    },
    {
     "data": {
      "text/plain": [
       "338400"
      ]
     },
     "execution_count": 8,
     "metadata": {},
     "output_type": "execute_result"
    }
   ],
   "source": [
    "tn_simulator.get_statistics()\n",
    "tn_simulator.compute_contraction_flop()"
   ]
  },
  {
   "cell_type": "code",
   "execution_count": 9,
   "metadata": {},
   "outputs": [
    {
     "name": "stderr",
     "output_type": "stream",
     "text": [
      "100%|██████████| 65536/65536 [00:03<00:00, 17475.95it/s]\n"
     ]
    }
   ],
   "source": [
    "sv = tn_simulator.get_all_amplitudes(verbose=True)"
   ]
  },
  {
   "cell_type": "code",
   "execution_count": 10,
   "metadata": {},
   "outputs": [
    {
     "data": {
      "text/plain": [
       "(1.0000000000000129-3.134564005927154e-16j)"
      ]
     },
     "execution_count": 10,
     "metadata": {},
     "output_type": "execute_result"
    }
   ],
   "source": [
    "np.inner(sv, ssv.conj())"
   ]
  },
  {
   "cell_type": "code",
   "execution_count": 10,
   "metadata": {},
   "outputs": [
    {
     "data": {
      "text/plain": [
       "array([[0.36456297, 0.34098901],\n",
       "       [0.19084726, 0.51470472],\n",
       "       [0.3480003 , 0.35755169],\n",
       "       [0.28553295, 0.42001904],\n",
       "       [0.42379336, 0.28175863],\n",
       "       [0.2032168 , 0.50233518],\n",
       "       [0.36584299, 0.33970899],\n",
       "       [0.33389446, 0.37165752],\n",
       "       [0.36090931, 0.34464268],\n",
       "       [0.52121404, 0.18433795],\n",
       "       [0.38980796, 0.31574403],\n",
       "       [0.60835416, 0.09719783],\n",
       "       [0.30319475, 0.40235724],\n",
       "       [0.27842642, 0.42712557],\n",
       "       [0.34602349, 0.35952849],\n",
       "       [0.20130142, 0.50425056]])"
      ]
     },
     "execution_count": 10,
     "metadata": {},
     "output_type": "execute_result"
    }
   ],
   "source": [
    "measure_probs = np.zeros((tn_simulator.nqubits, 2))\n",
    "for qubit in range(tn_simulator.nqubits):\n",
    "    for state in (0,1):\n",
    "        measure_probs[qubit, state] = tn_simulator.get_measurement_probability(qubit, state)\n",
    "measure_probs"
   ]
  },
  {
   "cell_type": "code",
   "execution_count": null,
   "metadata": {},
   "outputs": [],
   "source": []
  }
 ],
 "metadata": {
  "kernelspec": {
   "display_name": "Python 3",
   "language": "python",
   "name": "python3"
  },
  "language_info": {
   "codemirror_mode": {
    "name": "ipython",
    "version": 3
   },
   "file_extension": ".py",
   "mimetype": "text/x-python",
   "name": "python",
   "nbconvert_exporter": "python",
   "pygments_lexer": "ipython3",
   "version": "3.10.6"
  },
  "orig_nbformat": 4
 },
 "nbformat": 4,
 "nbformat_minor": 2
}
